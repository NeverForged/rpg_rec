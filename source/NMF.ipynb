{
 "cells": [
  {
   "cell_type": "markdown",
   "metadata": {},
   "source": [
    "# Matrix Factorization"
   ]
  },
  {
   "cell_type": "markdown",
   "metadata": {},
   "source": [
    "Okay, so time to use Matrix Factorization. I'll be using Non-Negative Matrix Factorization (NMF) from [sklearn](http://scikit-learn.org/stable/modules/generated/sklearn.decomposition.NMF.html). I'm a fan of Non-Negative Matrix Factorization for 2 reasons:\n",
    "1. There are no negative values, which prevents weird results. Since there is no 'thumbs down' other than not purchasing a product, I don;t want to have negative values spitting out negative results.\n",
    "2. I prefer the US matrix form, since it allows for manipulation with a K matrix... U is u x k, S is k x s, and K is a k x k matrix you can throw in... if K is I (identity) it has absolutly no effect, but you can maipulate results by tossing numbers on the off-diagonals (for example, in a boom recommender, you can find the group that pregnancy books are in, find the group that stillbirth books are in, and have it negativley influence result for pregnancy books if you're interested in stillbirth books, since that seems like a cruel thing to hit customers with)\n",
    "\n",
    "There is an issue however... I won't be able to use non-users to validate the way I did above; they need to get a vector at the same time as everyone else... so I need to 'knock out' values in my utility_matrix to fit back in later...but that means I need to grab that again, since I'm in a new notebook..."
   ]
  },
  {
   "cell_type": "code",
   "execution_count": 1,
   "metadata": {
    "collapsed": true
   },
   "outputs": [],
   "source": [
    "import pandas as pd\n",
    "from scipy import sparse\n",
    "\n",
    "# first load my data...\n",
    "ratings = pd.read_csv('../data/ratings.csv', delimiter='|', header=None, names=['user_id', 'system_id', 'ratings'])\n",
    "\n",
    "# get highest user_id & highest system_id\n",
    "highest_user_id = ratings.user_id.max()\n",
    "highest_system_id = ratings.system_id.max()\n",
    "\n",
    "# make a sparse matrix...\n",
    "utility_matrix = sparse.lil_matrix((highest_user_id + 1, highest_system_id + 1))\n",
    "# +1 to be able to use actual ids, as opposed to having to make consessions\n",
    "\n",
    "# of course, now I need to fill it with ratings...\n",
    "for _, row in ratings.iterrows():\n",
    "        utility_matrix[row.user_id, row.system_id] = row.ratings"
   ]
  },
  {
   "cell_type": "markdown",
   "metadata": {},
   "source": [
    "## Validation"
   ]
  },
  {
   "cell_type": "markdown",
   "metadata": {},
   "source": [
    "Now to remove 20% of my data points and call it the *train_utility_matrix*.  Goal is to make a list of tuples of *user_id* and *system_id*, then set the values at those locations to 0 in a copy of the *utility_matrix*."
   ]
  },
  {
   "cell_type": "code",
   "execution_count": 2,
   "metadata": {},
   "outputs": [
    {
     "name": "stdout",
     "output_type": "stream",
     "text": [
      "1.0 0.0\n",
      "1.0 0.0\n",
      "3.0 0.0\n",
      "1.0 0.0\n",
      "1.0 0.0\n",
      "2.0 0.0\n",
      "1.0 0.0\n",
      "1.0 0.0\n",
      "1.0 0.0\n",
      "3.0 0.0\n"
     ]
    }
   ],
   "source": [
    "from random import shuffle\n",
    "\n",
    "train_utility_matrix = utility_matrix.copy()\n",
    "utility_dict = utility_matrix.todok(copy=False)\n",
    "lst = utility_dict.keys()\n",
    "shuffle(lst)\n",
    "cut = int(len(lst)*0.8)\n",
    "train = lst[:cut]\n",
    "hold_out = lst[cut:]\n",
    "\n",
    "# now remove hold_out\n",
    "for tup in hold_out:\n",
    "    train_utility_matrix[tup] = 0\n",
    "    \n",
    "for tup in hold_out[:10]:\n",
    "    print utility_matrix[tup], train_utility_matrix[tup]"
   ]
  },
  {
   "cell_type": "markdown",
   "metadata": {},
   "source": [
    "### Non-regularized"
   ]
  },
  {
   "cell_type": "markdown",
   "metadata": {},
   "source": [
    "For fun, just fitting it to see what happens."
   ]
  },
  {
   "cell_type": "code",
   "execution_count": null,
   "metadata": {},
   "outputs": [
    {
     "name": "stdout",
     "output_type": "stream",
     "text": [
      "Progress 37.50% \r"
     ]
    }
   ],
   "source": [
    "import numpy as np\n",
    "from math import sqrt\n",
    "from sklearn.decomposition import NMF\n",
    "\n",
    "ks = [a for a in xrange(4,34,4)]\n",
    "best_k = 0\n",
    "max_err = [0 for a in ks]\n",
    "rmse = [0 for a in ks]\n",
    "lowest_rmse = 9001  # it's over 9,000\n",
    "for i, k in enumerate(ks):\n",
    "    nmf = NMF(k)\n",
    "    nmf.fit(train_utility_matrix)\n",
    "    #  v = WH, W = users, H = items\n",
    "    H = nmf.components_\n",
    "    W = nmf.transform(train_utility_matrix)\n",
    "    # find rmse for this...\n",
    "    temp_rmse = 0\n",
    "    n = 0\n",
    "    for j, tup in enumerate(hold_out):\n",
    "        # rating and predicted rating...\n",
    "        rat = int(ratings[(ratings['user_id'] == tup[0]) & (ratings['system_id'] == tup[1])]['ratings'])\n",
    "        pred = np.dot(W[tup[0], :], H[:, tup[1]])\n",
    "        err = pred - rat\n",
    "        # save worst error...\n",
    "        if abs(err) > max_err[i]:\n",
    "            max_err[i] = abs(err)\n",
    "        # calc RMSE\n",
    "        temp_rmse = temp_rmse + err**2\n",
    "        n += 1\n",
    "        print 'Progress {:.2f}% \\r'.format(100.0 * (i*len(hold_out) + j + 1)/ float(len(ks) * len(hold_out))),\n",
    "    # done, finish the calculation\n",
    "    rmse[i] = sqrt(temp_rmse/float(n))\n",
    "    if rmse[i] < lowest_rmse:\n",
    "        best_k = k\n",
    "        lowest_rmse = rmse[i]\n",
    "    "
   ]
  },
  {
   "cell_type": "code",
   "execution_count": null,
   "metadata": {
    "collapsed": true
   },
   "outputs": [],
   "source": []
  }
 ],
 "metadata": {
  "kernelspec": {
   "display_name": "Python 2",
   "language": "python",
   "name": "python2"
  },
  "language_info": {
   "codemirror_mode": {
    "name": "ipython",
    "version": 2
   },
   "file_extension": ".py",
   "mimetype": "text/x-python",
   "name": "python",
   "nbconvert_exporter": "python",
   "pygments_lexer": "ipython2",
   "version": "2.7.13"
  }
 },
 "nbformat": 4,
 "nbformat_minor": 2
}
