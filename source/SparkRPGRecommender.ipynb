{
 "cells": [
  {
   "cell_type": "markdown",
   "metadata": {},
   "source": [
    "# RPG Recommender with Spark"
   ]
  },
  {
   "cell_type": "markdown",
   "metadata": {},
   "source": [
    "This is based on [Building a Movie Recommender](https://www.codementor.io/jadianes/building-a-recommender-with-apache-spark-python-example-app-part1-du1083qbw), but with data from [Drive Thru RPG](www.drivethrurpg.com).  The fact that this runs from my laptop shows me that the 17688 data points I have does NOT require Spark to make a recommender, and I may build one in more standard Python packages as well (Scikit Learn, etc.)."
   ]
  },
  {
   "cell_type": "code",
   "execution_count": 1,
   "metadata": {
    "collapsed": true
   },
   "outputs": [],
   "source": [
    "import math\n",
    "import pyspark as ps\n",
    "from pyspark.sql import SQLContext\n",
    "from pyspark.mllib.recommendation import ALS\n",
    "\n",
    "\n",
    "# create spark session\n",
    "# use local[7] on ec2 instance\n",
    "spark = ps.sql.SparkSession.builder \\\n",
    "          .master('local[3]')  \\\n",
    "          .appName('rpg_rec') \\\n",
    "          .getOrCreate() \\"
   ]
  },
  {
   "cell_type": "code",
   "execution_count": 2,
   "metadata": {
    "collapsed": true
   },
   "outputs": [],
   "source": [
    "# load in the ratings data\n",
    "df = spark.read.csv('../data/ratings.csv',\n",
    "                       header=False,\n",
    "                       sep='|',\n",
    "                       inferSchema=True)"
   ]
  },
  {
   "cell_type": "code",
   "execution_count": 3,
   "metadata": {
    "collapsed": true
   },
   "outputs": [],
   "source": [
    "# convert to rdd...\n",
    "data_rdd = df.rdd\n",
    "\n",
    "# tarin/test sets...\n",
    "training_RDD, validation_RDD, test_RDD = data_rdd.randomSplit([6, 2, 2])\n",
    "# training_RDD, test_RDD = data_rdd.randomSplit([7, 3])\n",
    "validation_for_predict_RDD = validation_RDD.map(lambda x: (x[0], x[1]))\n",
    "test_for_predict_RDD = test_RDD.map(lambda x: (x[0], x[1]))"
   ]
  },
  {
   "cell_type": "code",
   "execution_count": 6,
   "metadata": {
    "collapsed": true
   },
   "outputs": [],
   "source": [
    "# run a recommender...\n",
    "# Parameters\n",
    "seed = 5L\n",
    "iterations = 10\n",
    "regularization_parameter = 0.1  # this likely needs to change...\n",
    "ranks = [a for a in xrange(22,27)]\n",
    "errors = [0 for a in ranks]\n",
    "err = 0\n",
    "tolerance = 0.02\n",
    "\n",
    "# keep track of places where this failed\n",
    "rank_fails = []"
   ]
  },
  {
   "cell_type": "code",
   "execution_count": 7,
   "metadata": {},
   "outputs": [
    {
     "name": "stdout",
     "output_type": "stream",
     "text": [
      "The best model was trained with rank 22\n"
     ]
    }
   ],
   "source": [
    "min_error = float('inf')\n",
    "best_rank = -1\n",
    "best_iteration = -1\n",
    "for rank in ranks:\n",
    "    last = ''\n",
    "    try:\n",
    "        last = 'model'\n",
    "        model = ALS.train(training_RDD, rank, seed=seed, iterations=iterations, lambda_=regularization_parameter)\n",
    "        last = 'predicions'\n",
    "        predictions = model.predictAll(validation_for_predict_RDD).map(lambda r: ((r[0], r[1]), r[2]))\n",
    "        last = 'rates & predicions'\n",
    "        rates_and_preds = validation_RDD.map(lambda r: ((int(r[0]), int(r[1])), float(r[2]))).join(predictions)\n",
    "        last = 'errors'\n",
    "        error = math.sqrt(rates_and_preds.map(lambda r: (r[1][0] - r[1][1])**2).mean())\n",
    "        errors[err] = error\n",
    "        err += 1\n",
    "        if error < min_error:\n",
    "            min_error = error\n",
    "            best_rank = rank\n",
    "    except:\n",
    "        rank_fails.append((rank, last))\n",
    "    print 'Progress: {:.1f}% \\r'.format(100.0 * ranks.index(rank)/float(len(ranks))),\n",
    "print 'The best model was trained with rank %s' % best_rank"
   ]
  },
  {
   "cell_type": "code",
   "execution_count": 9,
   "metadata": {},
   "outputs": [
    {
     "data": {
      "text/plain": [
       "[((137013, 25), (1.0, 0.3238272816323266)),\n",
       " ((380085, 29), (1.0, 0.4795896499310039)),\n",
       " ((112933, 113), (1.0, 0.6330697347432238)),\n",
       " ((29941, 61), (8.0, 1.2302929591526754)),\n",
       " ((28129, 105), (2.0, 0.764147055699367)),\n",
       " ((158594, 24), (5.0, 0.6748492360319994)),\n",
       " ((127362, 88), (1.0, 0.992100461143115)),\n",
       " ((181390, 176), (1.0, 0.6513531633433379)),\n",
       " ((265518, 0), (1.0, 0.37992156807926386))]"
      ]
     },
     "execution_count": 9,
     "metadata": {},
     "output_type": "execute_result"
    }
   ],
   "source": [
    "rates_and_preds.take(9)"
   ]
  },
  {
   "cell_type": "code",
   "execution_count": 10,
   "metadata": {
    "collapsed": true
   },
   "outputs": [],
   "source": [
    "training_RDD, test_RDD = data_rdd.randomSplit([7, 3], seed=0L)\n",
    "\n",
    "complete_model = ALS.train(training_RDD, best_rank, seed=seed, \n",
    "                           iterations=iterations, lambda_=regularization_parameter)"
   ]
  },
  {
   "cell_type": "code",
   "execution_count": 11,
   "metadata": {},
   "outputs": [
    {
     "name": "stdout",
     "output_type": "stream",
     "text": [
      "For testing data the RMSE is 2.22184651462\n"
     ]
    }
   ],
   "source": [
    "test_for_predict_RDD = test_RDD.map(lambda x: (x[0], x[1]))\n",
    "\n",
    "predictions = complete_model.predictAll(test_for_predict_RDD).map(lambda r: ((r[0], r[1]), r[2]))\n",
    "rates_and_preds = test_RDD.map(lambda r: ((int(r[0]), int(r[1])), float(r[2]))).join(predictions)\n",
    "error = math.sqrt(rates_and_preds.map(lambda r: (r[1][0] - r[1][1])**2).mean())\n",
    "    \n",
    "print 'For testing data the RMSE is %s' % (error)"
   ]
  },
  {
   "cell_type": "code",
   "execution_count": 12,
   "metadata": {},
   "outputs": [
    {
     "data": {
      "text/plain": [
       "[((9194, 8), (2.0, 0.6468061084298773)),\n",
       " ((99916, 162), (1.0, 0.5061060298303088)),\n",
       " ((407699, 59), (1.0, 0.42239765038942473)),\n",
       " ((112933, 113), (1.0, 2.230568132274757)),\n",
       " ((314351, 95), (1.0, 1.179425728776017)),\n",
       " ((19948, 22), (1.0, 0.2815130736568328)),\n",
       " ((464079, 59), (1.0, 1.0729447496908076)),\n",
       " ((20849, 81), (1.0, 0.5638028917598142)),\n",
       " ((718572, 2), (1.0, 0.9542448014437668))]"
      ]
     },
     "execution_count": 12,
     "metadata": {},
     "output_type": "execute_result"
    }
   ],
   "source": [
    "rates_and_preds.take(9)"
   ]
  },
  {
   "cell_type": "code",
   "execution_count": null,
   "metadata": {
    "collapsed": true
   },
   "outputs": [],
   "source": []
  }
 ],
 "metadata": {
  "kernelspec": {
   "display_name": "Python 2",
   "language": "python",
   "name": "python2"
  },
  "language_info": {
   "codemirror_mode": {
    "name": "ipython",
    "version": 2
   },
   "file_extension": ".py",
   "mimetype": "text/x-python",
   "name": "python",
   "nbconvert_exporter": "python",
   "pygments_lexer": "ipython2",
   "version": "2.7.13"
  }
 },
 "nbformat": 4,
 "nbformat_minor": 2
}
