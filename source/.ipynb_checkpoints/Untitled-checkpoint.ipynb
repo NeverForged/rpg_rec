{
 "cells": [
  {
   "cell_type": "markdown",
   "metadata": {},
   "source": [
    "# Recommender From Scratch"
   ]
  },
  {
   "cell_type": "markdown",
   "metadata": {},
   "source": [
    "Given that my entire dataset is only 17688 entries, fits neatly into a csv file, and runs in a Jupyter Notebook, I'm going to try to write a recommender from scratch using a lecture from Matt Drury.\n",
    "\n",
    "To start, I'm going to need my Utility Matrix..."
   ]
  },
  {
   "cell_type": "code",
   "execution_count": 2,
   "metadata": {},
   "outputs": [],
   "source": [
    "import pandas as pd\n",
    "from scipy import sparse\n",
    "\n",
    "# first load my data...\n",
    "ratings = pd.read_csv('../data/ratings.csv', delimiter='|', header=None, names=['user_id', 'system_id', 'ratings'])\n",
    "\n",
    "# get highest user_id & highest system_id\n",
    "highest_user_id = ratings.user_id.max()\n",
    "highest_system_id = ratings.system_id.max()\n",
    "\n",
    "# make a sparse matrix...\n",
    "utility_matrix = sparse.lil_matrix((highest_user_id + 1, highest_system_id + 1))\n",
    "# +1 to be able to use actual ids, as opposed to having to make consessions\n",
    "\n",
    "# of course, now I need to fill it with ratings...\n",
    "for _, row in ratings.iterrows():\n",
    "        utility_matrix[row.user_id, row.system_id] = row.ratings\n"
   ]
  },
  {
   "cell_type": "markdown",
   "metadata": {},
   "source": [
    "Next step is to find cosine similarities... the following function ws taken from my [Galvanize](https://www.galvanize.com/seattle/data-science) classwork on the subject."
   ]
  },
  {
   "cell_type": "code",
   "execution_count": 7,
   "metadata": {
    "collapsed": true
   },
   "outputs": [],
   "source": [
    "import numpy as np\n",
    "from sklearn.metrics.pairwise import cosine_similarity\n",
    "\n",
    "def make_cos_sim_and_neighborhoods(ratings_mat, neighborhood_size):\n",
    "    '''\n",
    "    Accepts a 2 dimensional matrix ratings_mat, and an integer neighborhood_size.\n",
    "    Returns a tuple containing:\n",
    "        - items_cos_sim, an item-item matrix where each element is the\n",
    "        cosine_similarity of the items at the corresponding row and column. This\n",
    "        is a square matrix where the length of each dimension equals the number\n",
    "        of columns in ratings_mat.\n",
    "        - neighborhood, a 2-dimensional matrix where each row is the neighborhood\n",
    "        for that item. The elements are the indices of the n (neighborhood_size)\n",
    "        most similar items. Most similar items are at the end of the row.\n",
    "    '''\n",
    "    items_cos_sim = cosine_similarity(ratings_mat.T)\n",
    "    least_to_most_sim_indexes = np.argsort(items_cos_sim, 1)\n",
    "    neighborhood = least_to_most_sim_indexes[:, -neighborhood_size:]\n",
    "    return items_cos_sim, neighborhood"
   ]
  },
  {
   "cell_type": "code",
   "execution_count": 11,
   "metadata": {},
   "outputs": [],
   "source": [
    "# use the utility matrix from above and a neighborhood size of 75 for fun...\n",
    "items_cos_sim, neighborhoods = make_cos_sim_and_neighborhoods(utility_matrix, neighborhood_size=75)"
   ]
  },
  {
   "cell_type": "markdown",
   "metadata": {},
   "source": [
    "Now to be able to make predictions..."
   ]
  },
  {
   "cell_type": "code",
   "execution_count": 17,
   "metadata": {
    "collapsed": true
   },
   "outputs": [],
   "source": [
    "import time\n",
    "\n",
    "def pred_one_user(user_id, item_cos_sim, neighborhoods, ratings_mat, timer=False):\n",
    "    '''\n",
    "    Accept user id as arg. Return the predictions for a single user.\n",
    "\n",
    "    Optional argument to specify whether or not timing should be provided\n",
    "    on this operation.\n",
    "    '''\n",
    "    if timer:\n",
    "        start = time.clock()\n",
    "    n_items = ratings_mat.shape[1]  # number of items\n",
    "    items_rated_by_this_user = ratings_mat[user_id].nonzero()[1]\n",
    "    # Just initializing so we have somewhere to put rating preds\n",
    "    output = np.zeros(n_items)\n",
    "    for item_to_rate in xrange(n_items):\n",
    "\n",
    "        relevant_items = np.intersect1d(neighborhoods[item_to_rate],\n",
    "                                        items_rated_by_this_user,\n",
    "                                        assume_unique=True)\n",
    "                                    # assume_unique speeds up intersection op\n",
    "        output[item_to_rate] = ratings_mat[user_id, relevant_items] * \\\n",
    "            item_cos_sim[item_to_rate, relevant_items] / \\\n",
    "            item_cos_sim[item_to_rate, relevant_items].sum()\n",
    "    output = np.nan_to_num(output)  # get rid of nan values...\n",
    "    if timer:\n",
    "        end = time.clock()\n",
    "        print 'output... {:.3f}'.format(end-start)\n",
    "    return output"
   ]
  },
  {
   "cell_type": "code",
   "execution_count": 42,
   "metadata": {},
   "outputs": [
    {
     "name": "stdout",
     "output_type": "stream",
     "text": [
      "2437    65232\n",
      "2462    66112\n",
      "Name: user_id, dtype: int64\n"
     ]
    }
   ],
   "source": [
    "# test the above...\n",
    "user_test = ratings.groupby('user_id').ratings.count().reset_index(name='count')\n",
    "test_user = user_test[user_test['count'] == user_test['count'].max()]['user_id']\n",
    "print test_user"
   ]
  },
  {
   "cell_type": "code",
   "execution_count": 46,
   "metadata": {},
   "outputs": [
    {
     "name": "stdout",
     "output_type": "stream",
     "text": [
      "1 1.02857636626\n",
      "1 1.03726877441\n",
      "1 1.06797898995\n",
      "1 1.03109590023\n",
      "1 1.09266881413\n",
      "1 1.03368475257\n",
      "1 1.02419317323\n",
      "1 1.02094702972\n",
      "1 1.04861761502\n",
      "3 2.57315861917\n",
      "1 1.02295067111\n",
      "1 1.0\n"
     ]
    },
    {
     "name": "stderr",
     "output_type": "stream",
     "text": [
      "C:\\Users\\darin\\Anaconda2\\lib\\site-packages\\ipykernel_launcher.py:22: RuntimeWarning: invalid value encountered in divide\n"
     ]
    }
   ],
   "source": [
    "preds = pred_one_user(65232, items_cos_sim, neighborhoods, utility_matrix)\n",
    "for system in ratings[ratings['user_id'] == 65232]['system_id']:\n",
    "    rat = int(ratings[(ratings['user_id'] == 65232) & (ratings['system_id'] == system)]['ratings'])\n",
    "    print rat, preds[system]"
   ]
  },
  {
   "cell_type": "markdown",
   "metadata": {},
   "source": [
    "Okay, so not too terrible... but we need to do some sort of validation... and this is an issue.  There are different methods; randomly remove some number of values and check against them, use a time-based model where we train on a certain time period, then look at test/validation as time moves forward, etc.\n",
    "\n",
    "My plan, for better or worse, is to remove about 20% of users, rerun the sims and neighborhoods, then check agianst the hold-out users.  I can create a train_utility_matrix for this, then predict on the standard one using my holdouts."
   ]
  },
  {
   "cell_type": "code",
   "execution_count": 56,
   "metadata": {},
   "outputs": [],
   "source": [
    "from random import shuffle\n",
    "\n",
    "# select a hold-out set...\n",
    "user_ids = list(set(ratings['user_id'].tolist()))\n",
    "shuffle(user_ids)  # somewhat shuffled already, but whatever\n",
    "index = int(len(user_ids)*.6)\n",
    "train_users = user_ids[:index]\n",
    "hold_out = user_ids[index:]\n",
    "next_cut = len(hold_out)/2\n",
    "test_users = hold_out[:next_cut]\n",
    "validation_users = hold_out[next_cut:]\n",
    "\n",
    "# now to make a new matrix...\n"
   ]
  },
  {
   "cell_type": "code",
   "execution_count": 57,
   "metadata": {},
   "outputs": [
    {
     "ename": "AttributeError",
     "evalue": "'list' object has no attribute 'max'",
     "output_type": "error",
     "traceback": [
      "\u001b[1;31m---------------------------------------------------------------------------\u001b[0m",
      "\u001b[1;31mAttributeError\u001b[0m                            Traceback (most recent call last)",
      "\u001b[1;32m<ipython-input-57-506db1e7324e>\u001b[0m in \u001b[0;36m<module>\u001b[1;34m()\u001b[0m\n\u001b[1;32m----> 1\u001b[1;33m \u001b[0mhighest_user_id\u001b[0m \u001b[1;33m=\u001b[0m \u001b[0mtrain_users\u001b[0m\u001b[1;33m.\u001b[0m\u001b[0mmax\u001b[0m\u001b[1;33m(\u001b[0m\u001b[1;33m)\u001b[0m\u001b[1;33m\u001b[0m\u001b[0m\n\u001b[0m\u001b[0;32m      2\u001b[0m \u001b[0mtrain_utility_matrix\u001b[0m \u001b[1;33m=\u001b[0m \u001b[0msparse\u001b[0m\u001b[1;33m.\u001b[0m\u001b[0mlil_matrix\u001b[0m\u001b[1;33m(\u001b[0m\u001b[1;33m(\u001b[0m\u001b[0mhighest_user_id\u001b[0m \u001b[1;33m+\u001b[0m \u001b[1;36m1\u001b[0m\u001b[1;33m,\u001b[0m \u001b[0mhighest_system_id\u001b[0m \u001b[1;33m+\u001b[0m \u001b[1;36m1\u001b[0m\u001b[1;33m)\u001b[0m\u001b[1;33m)\u001b[0m\u001b[1;33m\u001b[0m\u001b[0m\n\u001b[0;32m      3\u001b[0m \u001b[1;31m# +1 to be able to use actual ids, as opposed to having to make consessions\u001b[0m\u001b[1;33m\u001b[0m\u001b[1;33m\u001b[0m\u001b[0m\n\u001b[0;32m      4\u001b[0m \u001b[1;33m\u001b[0m\u001b[0m\n\u001b[0;32m      5\u001b[0m \u001b[1;31m# of course, now I need to fill it with ratings...\u001b[0m\u001b[1;33m\u001b[0m\u001b[1;33m\u001b[0m\u001b[0m\n",
      "\u001b[1;31mAttributeError\u001b[0m: 'list' object has no attribute 'max'"
     ]
    }
   ],
   "source": [
    "train_users.sort()\n",
    "highest_user_id train_users[-1]\n",
    "train_utility_matrix = sparse.lil_matrix((highest_user_id + 1, highest_system_id + 1))\n",
    "# +1 to be able to use actual ids, as opposed to having to make consessions\n",
    "\n",
    "# of course, now I need to fill it with ratings...\n",
    "for _, row in ratings.iterrows():\n",
    "    if user_id in train_users:\n",
    "        utility_matrix[row.user_id, row.system_id] = row.ratings"
   ]
  },
  {
   "cell_type": "code",
   "execution_count": null,
   "metadata": {
    "collapsed": true
   },
   "outputs": [],
   "source": []
  }
 ],
 "metadata": {
  "kernelspec": {
   "display_name": "Python 2",
   "language": "python",
   "name": "python2"
  },
  "language_info": {
   "codemirror_mode": {
    "name": "ipython",
    "version": 2
   },
   "file_extension": ".py",
   "mimetype": "text/x-python",
   "name": "python",
   "nbconvert_exporter": "python",
   "pygments_lexer": "ipython2",
   "version": "2.7.13"
  }
 },
 "nbformat": 4,
 "nbformat_minor": 2
}
