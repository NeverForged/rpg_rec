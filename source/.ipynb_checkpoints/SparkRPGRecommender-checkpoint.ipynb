{
 "cells": [
  {
   "cell_type": "code",
   "execution_count": 1,
   "metadata": {
    "collapsed": true
   },
   "outputs": [],
   "source": [
    "import math\n",
    "import pyspark as ps\n",
    "from pyspark.sql import SQLContext\n",
    "from pyspark.mllib.recommendation import ALS\n",
    "\n",
    "\n",
    "# create spark session\n",
    "# use local[7] on ec2 instance\n",
    "spark = ps.sql.SparkSession.builder \\\n",
    "          .master('local[4]')  \\\n",
    "          .appName('rpg_rec') \\\n",
    "          .getOrCreate() \\"
   ]
  },
  {
   "cell_type": "code",
   "execution_count": 2,
   "metadata": {
    "collapsed": true
   },
   "outputs": [],
   "source": [
    "# load in the ratings data\n",
    "df = spark.read.csv('../data/ratings.csv',\n",
    "                       header=False,\n",
    "                       sep='|',\n",
    "                       inferSchema=True)"
   ]
  },
  {
   "cell_type": "code",
   "execution_count": 3,
   "metadata": {
    "collapsed": true
   },
   "outputs": [],
   "source": [
    "# convert to rdd...\n",
    "data_rdd = df.rdd\n",
    "\n",
    "# tarin/test sets...\n",
    "training_RDD, validation_RDD, test_RDD = data_rdd.randomSplit([6, 2, 2])\n",
    "# training_RDD, test_RDD = data_rdd.randomSplit([7, 3])\n",
    "validation_for_predict_RDD = validation_RDD.map(lambda x: (x[0], x[1]))\n",
    "test_for_predict_RDD = test_RDD.map(lambda x: (x[0], x[1]))"
   ]
  },
  {
   "cell_type": "code",
   "execution_count": 4,
   "metadata": {},
   "outputs": [],
   "source": [
    "# run a recommender...\n",
    "# Parameters\n",
    "seed = 5L\n",
    "iterations = 10\n",
    "regularization_parameter = 0.1\n",
    "ranks = [a for a in xrange(4,30,2)]\n",
    "errors = [0 for a in ranks]\n",
    "err = 0\n",
    "tolerance = 0.02\n",
    "rank = 1\n"
   ]
  },
  {
   "cell_type": "code",
   "execution_count": 5,
   "metadata": {},
   "outputs": [
    {
     "name": "stdout",
     "output_type": "stream",
     "text": [
      "rank 4 model \n",
      " rank 4 predictions \n",
      " rank 4 errors \n",
      "For rank 4 the RMSE is 2.43119483241\n",
      "rank 6 model \n",
      " rank 6 predictions \n",
      " rank 6 errors \n",
      "For rank 6 the RMSE is 2.29656219383\n",
      "rank 8 model \n",
      " rank 8 predictions \n",
      " rank 8 errors \n",
      "For rank 8 the RMSE is 2.28721156374\n",
      "rank 10 model \n",
      " rank 10 predictions \n",
      " rank 10 errors \n",
      "For rank 10 the RMSE is 2.26013621162\n",
      "rank 12 model \n",
      " rank 12 predictions \n",
      " rank 12 errors \n",
      "For rank 12 the RMSE is 2.27579829702\n",
      "rank 14 model \n",
      " rank 14 predictions \n",
      " rank 14 errors \n",
      "For rank 14 the RMSE is 2.27216984801\n",
      "rank 16 model \n",
      " rank 16 predictions \n",
      " rank 16 errors \n",
      "For rank 16 the RMSE is 2.27838878344\n",
      "rank 18 model \n",
      " rank 18 predictions \n",
      " rank 18 errors \n",
      "For rank 18 the RMSE is 2.27564147915\n",
      "rank 20 model \n",
      " rank 20 predictions \n",
      " rank 20 errors \n",
      "For rank 20 the RMSE is 2.25561098541\n",
      "rank 22 model \n",
      " rank 22 predictions \n",
      " rank 22 errors \n",
      "For rank 22 the RMSE is 2.26517728079\n",
      "rank 24 model \n",
      " rank 24 predictions \n",
      " rank 24 errors \n",
      "For rank 24 the RMSE is 2.26543536842\n",
      "rank 26 model \n",
      " rank 26 predictions \n",
      " rank 26 errors \n",
      "For rank 26 the RMSE is 2.2639826029\n",
      "rank 28 model \n",
      " rank 28 predictions \n",
      " rank 28 errors \n",
      "For rank 28 the RMSE is 2.26821740586\n",
      "The best model was trained with rank 20\n"
     ]
    }
   ],
   "source": [
    "min_error = float('inf')\n",
    "best_rank = -1\n",
    "best_iteration = -1\n",
    "for rank in ranks:\n",
    "    last = ''\n",
    "    try:\n",
    "        last = 'model'\n",
    "        model = ALS.train(training_RDD, rank, seed=seed, iterations=iterations, lambda_=regularization_parameter)\n",
    "        last = 'predicions'\n",
    "        predictions = model.predictAll(validation_for_predict_RDD).map(lambda r: ((r[0], r[1]), r[2]))\n",
    "        last = 'rates & predicions'\n",
    "        rates_and_preds = validation_RDD.map(lambda r: ((int(r[0]), int(r[1])), float(r[2]))).join(predictions)\n",
    "        last = 'errors'\n",
    "        error = math.sqrt(rates_and_preds.map(lambda r: (r[1][0] - r[1][1])**2).mean())\n",
    "        errors[err] = error\n",
    "        err += 1\n",
    "        print 'For rank %s the RMSE is %s' % (rank, error)\n",
    "        if error < min_error:\n",
    "            min_error = error\n",
    "            best_rank = rank\n",
    "    except:\n",
    "        print 'error at {} with rank {}'.format(last, rank)\n",
    "\n",
    "print 'The best model was trained with rank %s' % best_rank"
   ]
  },
  {
   "cell_type": "code",
   "execution_count": 6,
   "metadata": {},
   "outputs": [
    {
     "data": {
      "text/plain": [
       "[((327227, 0), (3.0, 0.6254855446343139)),\n",
       " ((148605, 113), (1.0, 0.6525971143271057)),\n",
       " ((428735, 72), (1.0, 0.6238654492917837))]"
      ]
     },
     "execution_count": 6,
     "metadata": {},
     "output_type": "execute_result"
    }
   ],
   "source": [
    "rates_and_preds.take(3)"
   ]
  },
  {
   "cell_type": "code",
   "execution_count": 7,
   "metadata": {},
   "outputs": [
    {
     "name": "stdout",
     "output_type": "stream",
     "text": [
      "For testing data the RMSE is 2.10823416076\n"
     ]
    }
   ],
   "source": [
    "model = ALS.train(training_RDD, best_rank, seed=seed, iterations=iterations,\n",
    "                      lambda_=regularization_parameter)\n",
    "predictions = model.predictAll(test_for_predict_RDD).map(lambda r: ((r[0], r[1]), r[2]))\n",
    "rates_and_preds = test_RDD.map(lambda r: ((int(r[0]), int(r[1])), float(r[2]))).join(predictions)\n",
    "error = math.sqrt(rates_and_preds.map(lambda r: (r[1][0] - r[1][1])**2).mean())\n",
    "    \n",
    "print 'For testing data the RMSE is %s' % (error)"
   ]
  },
  {
   "cell_type": "code",
   "execution_count": 8,
   "metadata": {},
   "outputs": [
    {
     "name": "stdout",
     "output_type": "stream",
     "text": [
      "There are 17688 recommendations in the complete dataset\n"
     ]
    }
   ],
   "source": [
    "print \"There are %s recommendations in the complete dataset\" % (data_rdd.count())"
   ]
  },
  {
   "cell_type": "code",
   "execution_count": 9,
   "metadata": {},
   "outputs": [
    {
     "data": {
      "text/plain": [
       "[((3390, 105), (1.0, 0.4579704776990512)),\n",
       " ((153821, 83), (1.0, 1.1353818513016556)),\n",
       " ((84527, 136), (1.0, 0.4902495764389966))]"
      ]
     },
     "execution_count": 9,
     "metadata": {},
     "output_type": "execute_result"
    }
   ],
   "source": [
    "rates_and_preds.take(3)"
   ]
  },
  {
   "cell_type": "code",
   "execution_count": null,
   "metadata": {
    "collapsed": true
   },
   "outputs": [],
   "source": []
  }
 ],
 "metadata": {
  "kernelspec": {
   "display_name": "Python 2",
   "language": "python",
   "name": "python2"
  },
  "language_info": {
   "codemirror_mode": {
    "name": "ipython",
    "version": 2
   },
   "file_extension": ".py",
   "mimetype": "text/x-python",
   "name": "python",
   "nbconvert_exporter": "python",
   "pygments_lexer": "ipython2",
   "version": "2.7.13"
  }
 },
 "nbformat": 4,
 "nbformat_minor": 2
}
